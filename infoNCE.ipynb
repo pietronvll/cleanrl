{
 "cells": [
  {
   "cell_type": "markdown",
   "metadata": {},
   "source": [
    "# infoNCE, Informative Noise Contrastive Estimation by @marcopra"
   ]
  },
  {
   "cell_type": "code",
   "execution_count": 3,
   "metadata": {},
   "outputs": [
    {
     "name": "stderr",
     "output_type": "stream",
     "text": [
      "/home/mprattico/miniconda3/envs/cleanrl/lib/python3.9/site-packages/tqdm/auto.py:21: TqdmWarning: IProgress not found. Please update jupyter and ipywidgets. See https://ipywidgets.readthedocs.io/en/stable/user_install.html\n",
      "  from .autonotebook import tqdm as notebook_tqdm\n"
     ]
    }
   ],
   "source": [
    "import gymnasium as gym\n",
    "import pickle\n",
    "import numpy as np\n",
    "import torch\n",
    "import torch.nn as nn\n",
    "import torch.nn.functional as F\n",
    "import numpy as np\n",
    "import matplotlib.pyplot as plt\n",
    "import numpy as np\n",
    "from IPython.display import display, clear_output\n",
    "\n",
    "env = gym.make('Hopper-v4')\n"
   ]
  },
  {
   "cell_type": "code",
   "execution_count": 4,
   "metadata": {},
   "outputs": [],
   "source": [
    "def load_dataset(file_path):\n",
    "    with open(file_path, \"rb\") as f:\n",
    "        dataset = pickle.load(f)\n",
    "    states, actions, next_states, rewards = zip(*dataset)\n",
    "    \n",
    "    # Convert to NumPy arrays for easier processing\n",
    "    states = np.squeeze(np.array(states))\n",
    "    actions = np.squeeze(np.array(actions))\n",
    "    next_states = np.squeeze(np.array(next_states))\n",
    "    rewards = np.squeeze(np.array(rewards))\n",
    "\n",
    "    return states, actions, next_states, rewards"
   ]
  },
  {
   "cell_type": "markdown",
   "metadata": {},
   "source": [
    "\n",
    "### Embedders\n",
    "State-action embedder $\\phi: \\mathcal{S} \\times \\mathcal{A} \\rightarrow  \\mathbb{R}^d$\n",
    "Next state embedder $\\phi: \\mathcal{S} \\rightarrow  \\mathbb{R}^d$\n",
    "\n",
    "### Linear \n",
    "\n",
    "Theta network for learning reward function $r(s,a) = <\\phi(s,a), \\theta>$"
   ]
  },
  {
   "cell_type": "code",
   "execution_count": 5,
   "metadata": {},
   "outputs": [],
   "source": [
    "class Phi(nn.Module):\n",
    "    \"\"\"\n",
    "    phi: s, a -> z_phi in R^d\n",
    "    \"\"\"\n",
    "    def __init__(\n",
    "        self, \n",
    "        state_dim,\n",
    "        action_dim,\n",
    "        feature_dim=1024,\n",
    "        hidden_dim=1024,\n",
    "        ):\n",
    "\n",
    "        super(Phi, self).__init__()\n",
    "\n",
    "        self.l1 = nn.Linear(state_dim + action_dim, hidden_dim)\n",
    "        self.l2 = nn.Linear(hidden_dim, hidden_dim)\n",
    "        self.l3 = nn.Linear(hidden_dim, feature_dim)\n",
    "\n",
    "    def forward(self, state, action):\n",
    "        x = torch.cat([state, action], axis=-1)\n",
    "        z = F.elu(self.l1(x)) \n",
    "        z = F.elu(self.l2(z)) \n",
    "        z_phi = self.l3(z)\n",
    "        z_phi = F.normalize(z_phi, p=2, dim=-1)\n",
    "        return z_phi\n",
    "\n",
    "class Mu(nn.Module):\n",
    "    \"\"\"\n",
    "    mu': s' -> z_mu in R^d\n",
    "    \"\"\"\n",
    "    def __init__(\n",
    "        self, \n",
    "        state_dim,\n",
    "        feature_dim=1024,\n",
    "        hidden_dim=1024,\n",
    "        ):\n",
    "\n",
    "        super(Mu, self).__init__()\n",
    "\n",
    "        self.l1 = nn.Linear(state_dim , hidden_dim)\n",
    "        self.l2 = nn.Linear(hidden_dim, hidden_dim)\n",
    "        self.l3 = nn.Linear(hidden_dim, feature_dim)\n",
    "\n",
    "    def forward(self, state):\n",
    "        z = F.elu(self.l1(state))\n",
    "        z = F.elu(self.l2(z))\n",
    "        # bounded mu's output\n",
    "        z_mu = F.tanh(self.l3(z)) \n",
    "        z_mu = F.normalize(z_mu, p=2, dim=-1)\n",
    "        # z_mu = self.l3(z)\n",
    "        return z_mu\n",
    "     \n",
    "class Theta(nn.Module):\n",
    "    \"\"\"\n",
    "    Linear theta \n",
    "    <phi(s, a), theta> = r \n",
    "    \"\"\"\n",
    "    def __init__(\n",
    "        self, \n",
    "        feature_dim=1024,\n",
    "        ):\n",
    "\n",
    "        super(Theta, self).__init__()\n",
    "\n",
    "        self.l = nn.Linear(feature_dim, 1)\n",
    "\n",
    "    def forward(self, feature):\n",
    "        r = self.l(feature)\n",
    "        return r\n",
    "\n",
    "state_dim =  env.observation_space.shape[0]\n",
    "action_dim = env.action_space.shape[0]\n",
    "phi = Phi(state_dim=state_dim, action_dim=action_dim)\n",
    "mu = Mu(state_dim=state_dim)\n",
    "theta = Theta()\n",
    "\n",
    "# optimizer\n",
    "phi_optimizer = torch.optim.Adam(phi.parameters(), lr=1e-3)\n",
    "mu_optimizer = torch.optim.Adam(mu.parameters(), lr=1e-3)\n",
    "theta_optimizer = torch.optim.Adam(theta.parameters(), lr=1e-3)"
   ]
  },
  {
   "cell_type": "code",
   "execution_count": 6,
   "metadata": {},
   "outputs": [],
   "source": [
    "def infoNCEloss(z_phi, z_mu):\n",
    "    \"\"\"\n",
    "    InfoNCE loss\n",
    "    \"\"\"\n",
    "\n",
    "    # Cosine between all combinations\n",
    "    logits = z_phi @ z_mu.T\n",
    "\n",
    "    # Positive keys are the entries on the diagonal\n",
    "    labels = torch.arange(len(z_phi))\n",
    "\n",
    "    return F.cross_entropy(logits, labels, reduction='mean')\n",
    "\n",
    "\n",
    "    f_x_c = torch.matmul(z_phi, z_mu.T)\n",
    "    f_x_c_softmax = F.softmax(f_x_c, dim=-1)*torch.eye(f_x_c.shape[0])\n",
    "    loss = torch.mean(-torch.log(torch.sum(f_x_c_softmax, dim=-1)))\n",
    "\n",
    "    return -torch.log(F.softmax(f_x_c, dim=-1))*torch.eye(f_x_c.shape[0])\n"
   ]
  },
  {
   "cell_type": "code",
   "execution_count": 7,
   "metadata": {},
   "outputs": [
    {
     "data": {
      "image/png": "[encoded data removed]",
      "text/plain": [
       "<Figure size 1000x800 with 2 Axes>"
      ]
     },
     "metadata": {},
     "output_type": "display_data"
    }
   ],
   "source": [
    "# Initialize Variables\n",
    "\n",
    "# Initialize lists to store training losses and reward predictions\n",
    "training_losses = []\n",
    "reward_predictions = []\n",
    "\n",
    "# Initialize a figure for plotting\n",
    "fig, (ax1, ax2) = plt.subplots(2, 1, figsize=(10, 8))\n",
    "\n",
    "# Set titles for the subplots\n",
    "ax1.set_title('Training Losses')\n",
    "ax2.set_title('Reward Predictions')\n",
    "\n",
    "# Set labels for the axes\n",
    "ax1.set_xlabel('Epoch')\n",
    "ax1.set_ylabel('Loss')\n",
    "ax2.set_xlabel('Epoch')\n",
    "ax2.set_ylabel('Reward')\n",
    "\n",
    "\n",
    "\n",
    "# Define a function to update the plots progressively\n",
    "def update_plots(epoch, loss, reward):\n",
    "    # Append the new data to the lists\n",
    "    training_losses.append(loss)\n",
    "    reward_predictions.append(reward)\n",
    "    \n",
    "    # Clear the previous plots\n",
    "    ax1.cla()\n",
    "    ax2.cla()\n",
    "    \n",
    "    # Plot the updated data\n",
    "    ax1.plot(training_losses, label='Loss')\n",
    "    ax2.plot(reward_predictions, label='Reward')\n",
    "    \n",
    "    # Set titles and labels again after clearing\n",
    "    ax1.set_title('Training Losses')\n",
    "    ax1.set_xlabel('Epoch')\n",
    "    ax1.set_ylabel('Loss')\n",
    "    ax2.set_title('Reward Predictions')\n",
    "    ax2.set_xlabel('Epoch')\n",
    "    ax2.set_ylabel('Reward')\n",
    "    \n",
    "    # Add legends\n",
    "    ax1.legend()\n",
    "    ax2.legend()\n",
    "    \n",
    "    # Adjust layout\n",
    "    plt.tight_layout()\n",
    "    \n",
    "    # Clear the output and display the updated figure\n",
    "    clear_output(wait=True)\n",
    "    display(fig)"
   ]
  },
  {
   "cell_type": "code",
   "execution_count": 8,
   "metadata": {},
   "outputs": [
    {
     "name": "stdout",
     "output_type": "stream",
     "text": [
      "tensor(5.5560, grad_fn=<NllLossBackward0>)\n",
      "tensor(5.5560, grad_fn=<MeanBackward0>)\n"
     ]
    },
    {
     "name": "stderr",
     "output_type": "stream",
     "text": [
      "/home/mprattico/miniconda3/envs/cleanrl/lib/python3.9/site-packages/torch/nn/functional.py:1949: UserWarning: nn.functional.tanh is deprecated. Use torch.tanh instead.\n",
      "  warnings.warn(\"nn.functional.tanh is deprecated. Use torch.tanh instead.\")\n"
     ]
    },
    {
     "ename": "NotImplementedError",
     "evalue": "",
     "output_type": "error",
     "traceback": [
      "\u001b[0;31m---------------------------------------------------------------------------\u001b[0m",
      "\u001b[0;31mNotImplementedError\u001b[0m                       Traceback (most recent call last)",
      "Cell \u001b[0;32mIn[8], line 24\u001b[0m\n\u001b[1;32m     22\u001b[0m z_mu \u001b[38;5;241m=\u001b[39m mu(batch_next_observations)\n\u001b[1;32m     23\u001b[0m \u001b[38;5;66;03m# compute loss\u001b[39;00m\n\u001b[0;32m---> 24\u001b[0m loss \u001b[38;5;241m=\u001b[39m \u001b[43minfoNCEloss\u001b[49m\u001b[43m(\u001b[49m\u001b[43mz_phi\u001b[49m\u001b[43m,\u001b[49m\u001b[43m \u001b[49m\u001b[43mz_mu\u001b[49m\u001b[43m)\u001b[49m\u001b[38;5;241m.\u001b[39mmean()\n\u001b[1;32m     25\u001b[0m mu_optimizer\u001b[38;5;241m.\u001b[39mzero_grad()\n\u001b[1;32m     26\u001b[0m phi_optimizer\u001b[38;5;241m.\u001b[39mzero_grad()\n",
      "Cell \u001b[0;32mIn[6], line 20\u001b[0m, in \u001b[0;36minfoNCEloss\u001b[0;34m(z_phi, z_mu)\u001b[0m\n\u001b[1;32m     18\u001b[0m f_x_c_sum_n_mean \u001b[38;5;241m=\u001b[39m torch\u001b[38;5;241m.\u001b[39mmean(\u001b[38;5;241m-\u001b[39mtorch\u001b[38;5;241m.\u001b[39mlog(torch\u001b[38;5;241m.\u001b[39msum(f_x_c_softmax, dim\u001b[38;5;241m=\u001b[39m\u001b[38;5;241m-\u001b[39m\u001b[38;5;241m1\u001b[39m)))\n\u001b[1;32m     19\u001b[0m \u001b[38;5;28mprint\u001b[39m(f_x_c_sum_n_mean)\n\u001b[0;32m---> 20\u001b[0m \u001b[38;5;28;01mraise\u001b[39;00m \u001b[38;5;167;01mNotImplementedError\u001b[39;00m\n\u001b[1;32m     21\u001b[0m \u001b[38;5;28;01mreturn\u001b[39;00m \u001b[38;5;241m-\u001b[39mtorch\u001b[38;5;241m.\u001b[39mlog(F\u001b[38;5;241m.\u001b[39msoftmax(f_x_c, dim\u001b[38;5;241m=\u001b[39m\u001b[38;5;241m-\u001b[39m\u001b[38;5;241m1\u001b[39m))\u001b[38;5;241m*\u001b[39mtorch\u001b[38;5;241m.\u001b[39meye(f_x_c\u001b[38;5;241m.\u001b[39mshape[\u001b[38;5;241m0\u001b[39m])\n",
      "\u001b[0;31mNotImplementedError\u001b[0m: "
     ]
    }
   ],
   "source": [
    "training_steps = 100000 \n",
    "batch_size = 256\n",
    "# Example usage:\n",
    "file_path = \"logs/dataset_Hopper-v4__sac_continuous_action__1__1738764694.pkl\"  # Replace with actual run name\n",
    "states, actions, next_states, rewards = load_dataset(file_path)\n",
    "\n",
    "# # Display the figure\n",
    "# plt.tight_layout()\n",
    "# display(fig)\n",
    "\n",
    "for epoch in range(training_steps):\n",
    "    # sample a batch of transitions\n",
    "    idx = np.random.choice(len(states), batch_size)\n",
    "    batch_observations = torch.tensor(states[idx], dtype=torch.float32)\n",
    "    batch_actions = torch.tensor(actions[idx], dtype=torch.float32)\n",
    "    batch_next_observations = torch.tensor(next_states[idx], dtype=torch.float32)\n",
    "    batch_rewards = torch.tensor(rewards[idx], dtype=torch.float32)\n",
    "\n",
    "    # compute features\n",
    "    z_phi = phi(batch_observations, batch_actions)\n",
    "\n",
    "    z_mu = mu(batch_next_observations)\n",
    "    # compute loss\n",
    "    loss = infoNCEloss(z_phi, z_mu).mean()\n",
    "    mu_optimizer.zero_grad()\n",
    "    phi_optimizer.zero_grad()\n",
    "    loss.backward()\n",
    "    mu_optimizer.step()\n",
    "    phi_optimizer.step()\n",
    "\n",
    "    # compute reward\n",
    "    with torch.no_grad():\n",
    "        z_phi = phi(batch_observations, batch_actions)\n",
    "\n",
    "    loss_r = F.mse_loss(theta(z_phi), batch_rewards)\n",
    "    theta_optimizer.zero_grad()\n",
    "    loss_r.backward()\n",
    "    theta_optimizer.step()  \n",
    "\n",
    "    print(f\"loss: {loss.item()}, loss_r: {loss_r.item()}\")\n",
    "\n",
    "    # Update the plots with the new data\n",
    "    update_plots(epoch, loss.detach().item(), loss_r.detach().item())\n",
    "    # Do plots about the losses of the training and the reward prediction, since we are in a notebook you have to make the plots progressively updated, you don't have to do multiple times the same plot\n",
    "    \n",
    "\n"
   ]
  },
  {
   "cell_type": "code",
   "execution_count": null,
   "metadata": {},
   "outputs": [],
   "source": []
  },
  {
   "cell_type": "code",
   "execution_count": null,
   "metadata": {},
   "outputs": [],
   "source": []
  }
 ],
 "metadata": {
  "kernelspec": {
   "display_name": "cleanrl",
   "language": "python",
   "name": "python3"
  },
  "language_info": {
   "codemirror_mode": {
    "name": "ipython",
    "version": 3
   },
   "file_extension": ".py",
   "mimetype": "text/x-python",
   "name": "python",
   "nbconvert_exporter": "python",
   "pygments_lexer": "ipython3",
   "version": "3.9.21"
  }
 },
 "nbformat": 4,
 "nbformat_minor": 2
}
